{
  "nbformat": 4,
  "nbformat_minor": 0,
  "metadata": {
    "colab": {
      "name": "Data_Mining .ipynb",
      "provenance": [],
      "authorship_tag": "ABX9TyOINFBeLeWnj5xSMQKZWe4N",
      "include_colab_link": true
    },
    "kernelspec": {
      "name": "python3",
      "display_name": "Python 3"
    },
    "language_info": {
      "name": "python"
    }
  },
  "cells": [
    {
      "cell_type": "markdown",
      "metadata": {
        "id": "view-in-github",
        "colab_type": "text"
      },
      "source": [
        "<a href=\"https://colab.research.google.com/github/igoralves1/Dental-Informatics/blob/main/Python-Course/Colaboratory/Data_Management_Health.ipynb\" target=\"_parent\"><img src=\"https://colab.research.google.com/assets/colab-badge.svg\" alt=\"Open In Colab\"/></a>"
      ]
    },
    {
      "cell_type": "markdown",
      "metadata": {
        "id": "v_ay88tmCo0Y"
      },
      "source": [
        "# **Data Managmemt and data Mining for Health Professionals**\n",
        "\n",
        "\n",
        "---\n",
        "Some thext here \n",
        "\n",
        "1. **Loading Data - Importing Files**\n",
        "\n",
        "    *   Load data from local drive\n",
        "    *   Import CSV file from GitHub repository\n",
        "    *   Import JSON file from GitHub repository\n",
        "\n",
        "2. **Header 2**\n",
        "3. **Header 3**\n",
        "4. **Header 4**\n",
        "5. **Header 5**\n",
        "6. **Header 6**\n",
        "7. **References**:\n",
        "\n",
        "\n",
        "\n",
        "\n",
        "* [TutorialPoint-Python Pandas Tutorial](https://www.tutorialspoint.com/python_pandas/index.htm)\n",
        "* [Nbviewer](https://nbviewer.jupyter.org/)\n",
        "* [W3-Pandas Tutorial](https://www.w3schools.com/python/pandas/default.asp)\n",
        "* [3 Ways to Load CSV files into Colab](https://towardsdatascience.com/3-ways-to-load-csv-files-into-colab-7c14fcbdcb92)\n",
        "* [An introduction to JSON](https://towardsdatascience.com/an-introduction-to-json-c9acb464f43e)\n",
        "\n",
        "\n"
      ]
    },
    {
      "cell_type": "markdown",
      "metadata": {
        "id": "5zqHr9IFIQX4"
      },
      "source": [
        "***Load data from local drive - CSV***"
      ]
    },
    {
      "cell_type": "code",
      "metadata": {
        "id": "0iuqnLwCIVHQ"
      },
      "source": [
        "from google.colab import files\n",
        "uploaded = files.upload()"
      ],
      "execution_count": null,
      "outputs": []
    },
    {
      "cell_type": "markdown",
      "metadata": {
        "id": "RCWCuWYYFDpa"
      },
      "source": [
        "***Import CSV file from GitHub repository***"
      ]
    },
    {
      "cell_type": "code",
      "metadata": {
        "id": "a7qsolk9E9h8"
      },
      "source": [
        "import pandas as pd\n",
        "data=pd.read_csv('https://raw.githubusercontent.com/igoralves1/scrap2019-ncov/master/1581352943315.csv')\n",
        "data.tail()"
      ],
      "execution_count": null,
      "outputs": []
    },
    {
      "cell_type": "markdown",
      "metadata": {
        "id": "51ddpKrzFq5c"
      },
      "source": [
        "***Import JSON file from GitHub repository***"
      ]
    },
    {
      "cell_type": "code",
      "metadata": {
        "id": "WRt1kuRGFuYk"
      },
      "source": [
        "import pandas as pd\n",
        "data = pd.read_json('https://raw.githubusercontent.com/igoralves1/Dental-Informatics/main/Python-Course/data/example1.json')\n",
        "df_json = pd.DataFrame(data)\n",
        "print(df_json)\n"
      ],
      "execution_count": null,
      "outputs": []
    },
    {
      "cell_type": "markdown",
      "metadata": {
        "id": "zGhrBh8sMq_a"
      },
      "source": [
        "***Import JSON multi level file from GitHub repository***\n",
        "\n",
        "Normalize semi-structured JSON data into a flat table.\n",
        "\n",
        "[pandas.json_normalize](https://pandas.pydata.org/pandas-docs/stable/reference/api/pandas.json_normalize.html#pandas-json-normalize)"
      ]
    },
    {
      "cell_type": "code",
      "metadata": {
        "id": "xrbJSB73MvQg",
        "outputId": "ad2e2e33-454b-48ae-bd46-f42b2d557068",
        "colab": {
          "base_uri": "https://localhost:8080/"
        }
      },
      "source": [
        "import pandas as pd\n",
        "data = pd.read_json('https://raw.githubusercontent.com/igoralves1/Dental-Informatics/main/Python-Course/data/example2.json')\n",
        "df_json = pd.DataFrame(data)\n",
        "print(df_json)\n"
      ],
      "execution_count": 32,
      "outputs": [
        {
          "output_type": "stream",
          "text": [
            "  number       date    name                                          locations\n",
            "0        2016-01-10  R 3932  {'depTimeDiffMin': '0', 'name': 'Spital am Pyh...\n",
            "1        2016-01-10  R 3932  {'depTimeDiffMin': '0', 'name': 'Windischgarst...\n",
            "2        2016-01-10  R 3932  {'depTimeDiffMin': '', 'name': 'Linz/Donau Hbf...\n"
          ],
          "name": "stdout"
        }
      ]
    },
    {
      "cell_type": "code",
      "metadata": {
        "id": "ec8fsrzBSDqi"
      },
      "source": [
        "import pandas as pd\n",
        "data = [{'id': 1, 'name': {'first': 'Coleen', 'last': 'Volk'}},\n",
        "        {'name': {'given': 'Mose', 'family': 'Regner'}},\n",
        "        {'id': 2, 'name': 'Faye Raker'}]\n",
        "pd.json_normalize(data)"
      ],
      "execution_count": null,
      "outputs": []
    },
    {
      "cell_type": "code",
      "metadata": {
        "id": "SWWyUL31SWy5"
      },
      "source": [
        "import pandas as pd\n",
        "data = [{'id': 1, 'name': {'first': 'Coleen', 'last': 'Volk'}},\n",
        "        {'name': {'given': 'Mose', 'family': 'Regner'}},\n",
        "        {'id': 2, 'name': 'Faye Raker'}]\n",
        "pd.json_normalize(data, max_level=0)"
      ],
      "execution_count": null,
      "outputs": []
    },
    {
      "cell_type": "code",
      "metadata": {
        "id": "zwNIC7YFTmQu"
      },
      "source": [
        "import pandas as pd\n",
        "data = [{'id': 1, 'name': {'first': 'Coleen', 'last': 'Volk'}},\n",
        "        {'name': {'given': 'Mose', 'family': 'Regner'}},\n",
        "        {'id': 2, 'name': 'Faye Raker'}]\n",
        "pd.json_normalize(data, max_level=1)"
      ],
      "execution_count": null,
      "outputs": []
    },
    {
      "cell_type": "code",
      "metadata": {
        "id": "XCdbfI4GWafK"
      },
      "source": [
        "import pandas as pd\n",
        "data = [\n",
        "   {\n",
        "      \"state\":\"Florida\",\n",
        "      \"shortname\":\"FL\",\n",
        "      \"info\":{\n",
        "         \"governor\":\"Rick Scott\"\n",
        "      },\n",
        "      \"counties\":[\n",
        "         {\n",
        "            \"name\":\"Dade\",\n",
        "            \"population\":12345\n",
        "         },\n",
        "         {\n",
        "            \"name\":\"Broward\",\n",
        "            \"population\":40000\n",
        "         },\n",
        "         {\n",
        "            \"name\":\"Palm Beach\",\n",
        "            \"population\":60000\n",
        "         }\n",
        "      ]\n",
        "   },\n",
        "   {\n",
        "      \"state\":\"Ohio\",\n",
        "      \"shortname\":\"OH\",\n",
        "      \"info\":{\n",
        "         \"governor\":\"John Kasich\"\n",
        "      },\n",
        "      \"counties\":[\n",
        "         {\n",
        "            \"name\":\"Summit\",\n",
        "            \"population\":1234\n",
        "         },\n",
        "         {\n",
        "            \"name\":\"Cuyahoga\",\n",
        "            \"population\":1337\n",
        "         }\n",
        "      ]\n",
        "   }\n",
        "]\n",
        "# data = pd.read_json('https://raw.githubusercontent.com/igoralves1/Dental-Informatics/main/Python-Course/data/example3.json')\n",
        "pd.DataFrame(data)\n",
        "# pd.json_normalize(data)\n",
        "\n"
      ],
      "execution_count": null,
      "outputs": []
    }
  ]
}
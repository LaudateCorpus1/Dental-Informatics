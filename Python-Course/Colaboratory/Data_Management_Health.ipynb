{
  "nbformat": 4,
  "nbformat_minor": 0,
  "metadata": {
    "colab": {
      "name": "Data_Mining .ipynb",
      "provenance": [],
      "authorship_tag": "ABX9TyOfwKAk09OjzIES3Ar9fZTE",
      "include_colab_link": true
    },
    "kernelspec": {
      "name": "python3",
      "display_name": "Python 3"
    },
    "language_info": {
      "name": "python"
    }
  },
  "cells": [
    {
      "cell_type": "markdown",
      "metadata": {
        "id": "view-in-github",
        "colab_type": "text"
      },
      "source": [
        "<a href=\"https://colab.research.google.com/github/igoralves1/Dental-Informatics/blob/main/Python-Course/Colaboratory/Data_Management_Health.ipynb\" target=\"_parent\"><img src=\"https://colab.research.google.com/assets/colab-badge.svg\" alt=\"Open In Colab\"/></a>"
      ]
    },
    {
      "cell_type": "markdown",
      "metadata": {
        "id": "v_ay88tmCo0Y"
      },
      "source": [
        "# **Data Managmemt and data Mining for Health Professionals**\n",
        "\n",
        "\n",
        "---\n",
        "Some thext here \n",
        "\n",
        "1. **Loading Data - Importing Files**\n",
        "\n",
        "    *   Import CSV file from the Computer\n",
        "    *   Import CSV file from GitHub repository\n",
        "    *   Import JSON file from GitHub repository\n",
        "\n",
        "2. **Header 2**\n",
        "3. **Header 3**\n",
        "4. **Header 4**\n",
        "5. **Header 5**\n",
        "6. **Header 6**\n",
        "7. **References**:\n",
        "\n",
        "\n",
        "\n",
        "\n",
        "*   [TutorialPoint-Python Pandas Tutorial](https://www.tutorialspoint.com/python_pandas/index.htm)\n",
        "*   [Nbviewer](https://nbviewer.jupyter.org/)\n",
        "*   [W3-Pandas Tutorial](https://www.w3schools.com/python/pandas/default.asp)\n",
        "\n",
        "\n"
      ]
    },
    {
      "cell_type": "markdown",
      "metadata": {
        "id": "5zqHr9IFIQX4"
      },
      "source": [
        "***Import CSV file from the Computer***"
      ]
    },
    {
      "cell_type": "code",
      "metadata": {
        "id": "0iuqnLwCIVHQ"
      },
      "source": [
        "from google.colab import files\n",
        "uploaded = files.upload()"
      ],
      "execution_count": null,
      "outputs": []
    },
    {
      "cell_type": "markdown",
      "metadata": {
        "id": "RCWCuWYYFDpa"
      },
      "source": [
        "***Import CSV file from GitHub repository***"
      ]
    },
    {
      "cell_type": "code",
      "metadata": {
        "id": "a7qsolk9E9h8"
      },
      "source": [
        "import pandas as pd\n",
        "data=pd.read_csv('https://raw.githubusercontent.com/igoralves1/scrap2019-ncov/master/1581352943315.csv')\n",
        "data.tail()"
      ],
      "execution_count": null,
      "outputs": []
    },
    {
      "cell_type": "markdown",
      "metadata": {
        "id": "51ddpKrzFq5c"
      },
      "source": [
        "***Import JSON file from GitHub repository***"
      ]
    },
    {
      "cell_type": "code",
      "metadata": {
        "id": "WRt1kuRGFuYk"
      },
      "source": [
        "import pandas as pd\n",
        "data = pd.read_json('https://raw.githubusercontent.com/igoralves1/Dental-Informatics/main/Python-Course/data/example1.json')\n",
        "df_json = pd.DataFrame(data)\n",
        "print(df_json)\n"
      ],
      "execution_count": null,
      "outputs": []
    }
  ]
}